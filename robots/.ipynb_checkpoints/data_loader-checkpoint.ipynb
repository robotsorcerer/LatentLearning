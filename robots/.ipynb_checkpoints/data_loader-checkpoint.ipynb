{
 "cells": [
  {
   "cell_type": "code",
   "execution_count": 1,
   "id": "71243d3f-ac5b-40d6-b1ae-fc7d3e1bf0a2",
   "metadata": {},
   "outputs": [],
   "source": [
    "import os\n",
    "import h5py\n",
    "import torch \n",
    "import torch.nn as nn \n",
    "import numpy as np\n",
    "from os.path import join\n",
    "from utility import DataLogger"
   ]
  },
  {
   "cell_type": "code",
   "execution_count": 2,
   "id": "89131666-cb27-407d-89be-2a10eca2f829",
   "metadata": {},
   "outputs": [],
   "source": [
    "data_dir = join('experiments', 'inverted_pendulum', 'data_files')\n",
    "trajectory_samples = sorted(os.listdir(data_dir))\n",
    "trajectory_samples = [join(data_dir, fname) for fname in trajectory_samples]\n",
    "datalogger = DataLogger()\n",
    "\n",
    "observation_state_pair = [np.nan for i in range(len(trajectory_samples))]\n",
    "# collect saved observations and states\n",
    "for i in range(len(trajectory_samples)):\n",
    "    observation_state_pair[i] = datalogger.get_state(trajectory_samples[i], verbose=False)\n",
    "observations = np.vstack([obs[0] for obs in observation_state_pair])\n",
    "states = np.vstack([state[1] for state in observation_state_pair])"
   ]
  },
  {
   "cell_type": "code",
   "execution_count": null,
   "id": "5ed1a051",
   "metadata": {},
   "outputs": [],
   "source": []
  }
 ],
 "metadata": {
  "kernelspec": {
   "display_name": "Python 3 (ipykernel)",
   "language": "python",
   "name": "python3"
  },
  "language_info": {
   "codemirror_mode": {
    "name": "ipython",
    "version": 3
   },
   "file_extension": ".py",
   "mimetype": "text/x-python",
   "name": "python",
   "nbconvert_exporter": "python",
   "pygments_lexer": "ipython3",
   "version": "3.8.12"
  }
 },
 "nbformat": 4,
 "nbformat_minor": 5
}
