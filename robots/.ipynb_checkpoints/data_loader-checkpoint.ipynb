{
 "cells": [
  {
   "cell_type": "code",
   "execution_count": 9,
   "id": "71243d3f-ac5b-40d6-b1ae-fc7d3e1bf0a2",
   "metadata": {},
   "outputs": [],
   "source": [
    "import os\n",
    "import h5py\n",
    "import torch\n",
    "import numpy as np\n",
    "from os.path import join\n",
    "from utility import DataLogger"
   ]
  },
  {
   "cell_type": "code",
   "execution_count": 10,
   "id": "89131666-cb27-407d-89be-2a10eca2f829",
   "metadata": {},
   "outputs": [],
   "source": [
    "data_dir = join('experiments', 'inverted_pendulum', 'data_files')"
   ]
  },
  {
   "cell_type": "code",
   "execution_count": 11,
   "id": "e81c0540-eff2-478f-9a74-d972a0c882ba",
   "metadata": {},
   "outputs": [
    {
     "name": "stdout",
     "output_type": "stream",
     "text": [
      "['experiments/inverted_pendulum/data_files/iter_0.hdf5', 'experiments/inverted_pendulum/data_files/iter_1.hdf5', 'experiments/inverted_pendulum/data_files/iter_2.hdf5', 'experiments/inverted_pendulum/data_files/iter_3.hdf5', 'experiments/inverted_pendulum/data_files/iter_4.hdf5', 'experiments/inverted_pendulum/data_files/iter_5.hdf5', 'experiments/inverted_pendulum/data_files/iter_6.hdf5', 'experiments/inverted_pendulum/data_files/iter_7.hdf5', 'experiments/inverted_pendulum/data_files/iter_8.hdf5', 'experiments/inverted_pendulum/data_files/iter_9.hdf5']\n"
     ]
    }
   ],
   "source": [
    "trajectory_samples = sorted(os.listdir(data_dir))\n",
    "trajectory_samples = [join(data_dir, fname) for fname in trajectory_samples]\n",
    "# print(trajectory_samples)"
   ]
  },
  {
   "cell_type": "code",
   "execution_count": null,
   "id": "80dcf7df-fd40-4c6f-8f70-92ebf9922302",
   "metadata": {},
   "outputs": [],
   "source": [
    "datalogger = DataLogger("
   ]
  }
 ],
 "metadata": {
  "kernelspec": {
   "display_name": "Python 3 (ipykernel)",
   "language": "python",
   "name": "python3"
  },
  "language_info": {
   "codemirror_mode": {
    "name": "ipython",
    "version": 3
   },
   "file_extension": ".py",
   "mimetype": "text/x-python",
   "name": "python",
   "nbconvert_exporter": "python",
   "pygments_lexer": "ipython3",
   "version": "3.8.12"
  }
 },
 "nbformat": 4,
 "nbformat_minor": 5
}
