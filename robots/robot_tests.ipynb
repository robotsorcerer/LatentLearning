{
 "cells": [
  {
   "cell_type": "code",
   "execution_count": 1,
   "id": "bbdfe9b5-c03b-4373-b3e6-0e4bd75f07f6",
   "metadata": {},
   "outputs": [],
   "source": [
    "import Box2D as b2"
   ]
  },
  {
   "cell_type": "code",
   "execution_count": 4,
   "id": "30c3d240-acaf-417c-8ee0-6481f0c0c396",
   "metadata": {},
   "outputs": [
    {
     "data": {
      "text/plain": [
       "b2World(autoClearForces=True,\n",
       "        bodies=[],\n",
       "        bodyCount=0,\n",
       "        contactCount=0,\n",
       "        contactFilter=None,\n",
       "        contactListener=None,\n",
       "        contactManager=b2ContactManager(allocator=<Swig Object of type 'b2BlockAllocator *' at 0x7f89b122e480>,\n",
       "                                        broadPhase=proxyCount=0,),\n",
       "                                        contactCount=0,\n",
       "                                        contactFilter=b2ContactFilter(),\n",
       "                                        contactList=None,\n",
       "                                        contactListener=b2ContactListener(),\n",
       "                                        ),\n",
       "        contacts=[],\n",
       "        continuousPhysics=True,\n",
       "        destructionListener=None,\n",
       "        gravity=b2Vec2(0,-10),\n",
       "        jointCount=0,\n",
       "        joints=[],\n",
       "        locked=False,\n",
       "        proxyCount=0,\n",
       "        renderer=None,\n",
       "        subStepping=False,\n",
       "        warmStarting=True,\n",
       "        )"
      ]
     },
     "execution_count": 4,
     "metadata": {},
     "output_type": "execute_result"
    }
   ],
   "source": [
    "world = b2.b2World()\n",
    "world"
   ]
  },
  {
   "cell_type": "code",
   "execution_count": 6,
   "id": "86ee0177-d554-424f-a272-8c7b50ba0511",
   "metadata": {},
   "outputs": [
    {
     "name": "stdout",
     "output_type": "stream",
     "text": [
      "Help on class b2FixtureDef in module Box2D.Box2D:\n",
      "\n",
      "class b2FixtureDef(builtins.object)\n",
      " |  b2FixtureDef(**kwargs)\n",
      " |  \n",
      " |  A fixture definition is used to create a fixture. This class defines an abstract fixture definition. You can reuse fixture definitions safely.\n",
      " |  \n",
      " |  Methods defined here:\n",
      " |  \n",
      " |  ClearUserData = b2FixtureDef_ClearUserData(...)\n",
      " |      ClearUserData(b2FixtureDef self)\n",
      " |  \n",
      " |  __del__(self)\n",
      " |  \n",
      " |  __dir__ = _dir_filter(self)\n",
      " |      Using introspection, mimic dir() by adding up all of the __dicts__\n",
      " |      for the current class and all base classes (type(self).__mro__ returns\n",
      " |      all of the classes that make it up)\n",
      " |      Basically filters by:\n",
      " |          __x__ OK\n",
      " |          __x bad\n",
      " |          _classname bad\n",
      " |  \n",
      " |  __hash__ = b2FixtureDef___hash__(...)\n",
      " |      __hash__(b2FixtureDef self) -> long\n",
      " |  \n",
      " |  __init__(self, **kwargs)\n",
      " |      Initialize self.  See help(type(self)) for accurate signature.\n",
      " |  \n",
      " |  __repr__(self)\n",
      " |      Return repr(self).\n",
      " |  \n",
      " |  ----------------------------------------------------------------------\n",
      " |  Static methods defined here:\n",
      " |  \n",
      " |  __swig_destroy__ = delete_b2FixtureDef(...)\n",
      " |      delete_b2FixtureDef(b2FixtureDef self)\n",
      " |  \n",
      " |  ----------------------------------------------------------------------\n",
      " |  Data descriptors defined here:\n",
      " |  \n",
      " |  __dict__\n",
      " |      dictionary for instance variables (if defined)\n",
      " |  \n",
      " |  __weakref__\n",
      " |      list of weak references to the object (if defined)\n",
      " |  \n",
      " |  categoryBits\n",
      " |  \n",
      " |  density\n",
      " |      density : float32\n",
      " |  \n",
      " |  filter\n",
      " |      filter : b2Filter\n",
      " |  \n",
      " |  friction\n",
      " |      friction : float32\n",
      " |  \n",
      " |  groupIndex\n",
      " |  \n",
      " |  isSensor\n",
      " |      isSensor : bool\n",
      " |  \n",
      " |  maskBits\n",
      " |  \n",
      " |  restitution\n",
      " |      restitution : float32\n",
      " |  \n",
      " |  shape\n",
      " |      shape : p.q(const).b2Shape\n",
      " |  \n",
      " |  thisown\n",
      " |      The membership flag\n",
      " |  \n",
      " |  userData\n",
      " |      __GetUserData(b2FixtureDef self) -> PyObject *\n",
      "\n"
     ]
    }
   ],
   "source": [
    "help(b2.b2FixtureDef)"
   ]
  },
  {
   "cell_type": "code",
   "execution_count": null,
   "id": "3b57453a-5cef-4bc7-9aa8-af1ec96e034c",
   "metadata": {},
   "outputs": [],
   "source": [
    "b2.b2Vec2()"
   ]
  }
 ],
 "metadata": {
  "kernelspec": {
   "display_name": "Python 3",
   "language": "python",
   "name": "python3"
  },
  "language_info": {
   "codemirror_mode": {
    "name": "ipython",
    "version": 3
   },
   "file_extension": ".py",
   "mimetype": "text/x-python",
   "name": "python",
   "nbconvert_exporter": "python",
   "pygments_lexer": "ipython3",
   "version": "3.7.10"
  }
 },
 "nbformat": 4,
 "nbformat_minor": 5
}
