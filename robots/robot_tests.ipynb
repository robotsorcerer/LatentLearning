{
 "cells": [
  {
   "cell_type": "code",
   "execution_count": 1,
   "id": "bbdfe9b5-c03b-4373-b3e6-0e4bd75f07f6",
   "metadata": {},
   "outputs": [],
   "source": [
    "import random\n",
    "from os.path import join, expanduser\n",
    "from datetime import datetime\n",
    "import sys\n",
    "sys.path.append(\"..\")\n",
    "from utility import DataLogger"
   ]
  },
  {
   "cell_type": "code",
   "execution_count": 2,
   "id": "2fda7005",
   "metadata": {},
   "outputs": [],
   "source": [
    "dlog = DataLogger()\n",
    "\n",
    "# unpickle a few files from Downloads\n",
    "path_to_files = join(expanduser(\"~\"), \"Downloads\", \"inverted_pendulum\")"
   ]
  },
  {
   "cell_type": "code",
   "execution_count": 3,
   "id": "3b57453a-5cef-4bc7-9aa8-af1ec96e034c",
   "metadata": {},
   "outputs": [
    {
     "name": "stdout",
     "output_type": "stream",
     "text": [
      "['01-01-22_18-13', 'sample_0_01-01-22_17-47.pkl', 'sample_0_01-01-22_17-45.pkl', 'sample_1_01-01-22_17-46.pkl']\n"
     ]
    }
   ],
   "source": [
    "files = os.listdir(path_to_files)\n",
    "print(files)"
   ]
  },
  {
   "cell_type": "code",
   "execution_count": null,
   "id": "8fa8fdde",
   "metadata": {},
   "outputs": [],
   "source": []
  }
 ],
 "metadata": {
  "kernelspec": {
   "display_name": "Python 3",
   "language": "python",
   "name": "python3"
  },
  "language_info": {
   "codemirror_mode": {
    "name": "ipython",
    "version": 3
   },
   "file_extension": ".py",
   "mimetype": "text/x-python",
   "name": "python",
   "nbconvert_exporter": "python",
   "pygments_lexer": "ipython3",
   "version": "3.7.11"
  }
 },
 "nbformat": 4,
 "nbformat_minor": 5
}
