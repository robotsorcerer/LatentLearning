{
 "cells": [
  {
   "cell_type": "code",
   "execution_count": 8,
   "id": "bbdfe9b5-c03b-4373-b3e6-0e4bd75f07f6",
   "metadata": {},
   "outputs": [],
   "source": [
    "import random\n",
    "import pygame\n",
    "from os.path import join, expanduser\n",
    "from datetime import datetime\n",
    "import sys\n",
    "sys.path.append(\"..\")\n",
    "from utility import DataLogger"
   ]
  },
  {
   "cell_type": "code",
   "execution_count": 9,
   "id": "b8631078",
   "metadata": {},
   "outputs": [
    {
     "name": "stdout",
     "output_type": "stream",
     "text": [
      "['01-02-22_16-50', '01-02-22_16-54', '01-02-22_16-55', '01-02-22_16-58', '01-02-22_16-57', '01-02-22_16-53', '01-02-22_16-52']\n"
     ]
    }
   ],
   "source": [
    "\n",
    "dlog = DataLogger()\n",
    "\n",
    "# unpickle a few files from Downloads\n",
    "path_to_files = join(expanduser(\"~\"), \"Downloads\", \"inverted_pendulum\")\n",
    "files = os.listdir(path_to_files)\n",
    "print(files)\n"
   ]
  },
  {
   "cell_type": "code",
   "execution_count": 12,
   "id": "bb02527c",
   "metadata": {},
   "outputs": [
    {
     "name": "stdout",
     "output_type": "stream",
     "text": [
      "Help on built-in function save_extended in module pygame.image:\n",
      "\n",
      "save_extended(...)\n",
      "    save_extended(Surface, filename) -> None\n",
      "    save_extended(Surface, fileobj, namehint=) -> None\n",
      "    save a png/jpg image to file (or file-like object)\n",
      "\n"
     ]
    }
   ],
   "source": [
    "help(pygame.image.save_extended)"
   ]
  },
  {
   "cell_type": "code",
   "execution_count": 5,
   "id": "f0d127ba",
   "metadata": {},
   "outputs": [
    {
     "data": {
      "text/plain": [
       "'condition_01.jpg'"
      ]
     },
     "execution_count": 5,
     "metadata": {},
     "output_type": "execute_result"
    }
   ],
   "source": [
    "a = 'condition_{:0>2}.jpg'.format(1)\n",
    "a"
   ]
  },
  {
   "cell_type": "code",
   "execution_count": 8,
   "id": "2c0e78ad",
   "metadata": {},
   "outputs": [
    {
     "data": {
      "text/plain": [
       "'condition_01.jpg'"
      ]
     },
     "execution_count": 8,
     "metadata": {},
     "output_type": "execute_result"
    }
   ],
   "source": [
    "a = f'condition_{1:0>2}.jpg'\n",
    "a"
   ]
  },
  {
   "cell_type": "code",
   "execution_count": 14,
   "id": "2bfa11ab",
   "metadata": {},
   "outputs": [],
   "source": [
    "import h5py\n",
    "import numpy as np\n",
    "\n",
    "h5File = h5py.File(\"test.hdf5\", 'a')\n",
    "grp = h5File.create_group(\"itr_0\")\n",
    "cond = grp.create_dataset(\"condition_0/image_1\", data=np.arange(12).reshape(3, 4))"
   ]
  },
  {
   "cell_type": "code",
   "execution_count": 46,
   "id": "23f9ad19",
   "metadata": {},
   "outputs": [
    {
     "ename": "RuntimeError",
     "evalue": "Object visitation failed (addr overflow, addr = 2536, size = 328, eoa = 2048)",
     "output_type": "error",
     "traceback": [
      "\u001b[0;31m---------------------------------------------------------------------------\u001b[0m",
      "\u001b[0;31mRuntimeError\u001b[0m                              Traceback (most recent call last)",
      "\u001b[0;32m/tmp/ipykernel_3408/3056153460.py\u001b[0m in \u001b[0;36m<module>\u001b[0;34m\u001b[0m\n\u001b[1;32m     10\u001b[0m \u001b[0;34m\u001b[0m\u001b[0m\n\u001b[1;32m     11\u001b[0m     \u001b[0mcond_0\u001b[0m \u001b[0;34m=\u001b[0m \u001b[0mdf\u001b[0m\u001b[0;34m[\u001b[0m\u001b[0;34m\"condition_00\"\u001b[0m\u001b[0;34m]\u001b[0m\u001b[0;34m\u001b[0m\u001b[0;34m\u001b[0m\u001b[0m\n\u001b[0;32m---> 12\u001b[0;31m     \u001b[0mcond_0\u001b[0m\u001b[0;34m.\u001b[0m\u001b[0mvisititems\u001b[0m\u001b[0;34m(\u001b[0m\u001b[0msee\u001b[0m\u001b[0;34m)\u001b[0m\u001b[0;34m\u001b[0m\u001b[0;34m\u001b[0m\u001b[0m\n\u001b[0m\u001b[1;32m     13\u001b[0m     \u001b[0;31m# print(cond_0)\u001b[0m\u001b[0;34m\u001b[0m\u001b[0;34m\u001b[0m\u001b[0;34m\u001b[0m\u001b[0m\n",
      "\u001b[0;32m~/anaconda3/envs/38/lib/python3.8/site-packages/h5py/_hl/group.py\u001b[0m in \u001b[0;36mvisititems\u001b[0;34m(self, func)\u001b[0m\n\u001b[1;32m    611\u001b[0m                 \u001b[0mname\u001b[0m \u001b[0;34m=\u001b[0m \u001b[0mself\u001b[0m\u001b[0;34m.\u001b[0m\u001b[0m_d\u001b[0m\u001b[0;34m(\u001b[0m\u001b[0mname\u001b[0m\u001b[0;34m)\u001b[0m\u001b[0;34m\u001b[0m\u001b[0;34m\u001b[0m\u001b[0m\n\u001b[1;32m    612\u001b[0m                 \u001b[0;32mreturn\u001b[0m \u001b[0mfunc\u001b[0m\u001b[0;34m(\u001b[0m\u001b[0mname\u001b[0m\u001b[0;34m,\u001b[0m \u001b[0mself\u001b[0m\u001b[0;34m[\u001b[0m\u001b[0mname\u001b[0m\u001b[0;34m]\u001b[0m\u001b[0;34m)\u001b[0m\u001b[0;34m\u001b[0m\u001b[0;34m\u001b[0m\u001b[0m\n\u001b[0;32m--> 613\u001b[0;31m             \u001b[0;32mreturn\u001b[0m \u001b[0mh5o\u001b[0m\u001b[0;34m.\u001b[0m\u001b[0mvisit\u001b[0m\u001b[0;34m(\u001b[0m\u001b[0mself\u001b[0m\u001b[0;34m.\u001b[0m\u001b[0mid\u001b[0m\u001b[0;34m,\u001b[0m \u001b[0mproxy\u001b[0m\u001b[0;34m)\u001b[0m\u001b[0;34m\u001b[0m\u001b[0;34m\u001b[0m\u001b[0m\n\u001b[0m\u001b[1;32m    614\u001b[0m \u001b[0;34m\u001b[0m\u001b[0m\n\u001b[1;32m    615\u001b[0m     \u001b[0;34m@\u001b[0m\u001b[0mwith_phil\u001b[0m\u001b[0;34m\u001b[0m\u001b[0;34m\u001b[0m\u001b[0m\n",
      "\u001b[0;32mh5py/_objects.pyx\u001b[0m in \u001b[0;36mh5py._objects.with_phil.wrapper\u001b[0;34m()\u001b[0m\n",
      "\u001b[0;32mh5py/_objects.pyx\u001b[0m in \u001b[0;36mh5py._objects.with_phil.wrapper\u001b[0;34m()\u001b[0m\n",
      "\u001b[0;32mh5py/h5o.pyx\u001b[0m in \u001b[0;36mh5py.h5o.visit\u001b[0;34m()\u001b[0m\n",
      "\u001b[0;31mRuntimeError\u001b[0m: Object visitation failed (addr overflow, addr = 2536, size = 328, eoa = 2048)"
     ]
    }
   ],
   "source": [
    "path_to_file = \"experiments/inverted_pendulum/data_files/iter_0.hdf5\"\n",
    "# key = unicode('Annotation', \"utf-8\")\n",
    "cond_0\n",
    "def see(n, obj):\n",
    "    print(n)\n",
    "    for k, v in obj.attrs.items():\n",
    "        print(k, v)\n",
    "\n",
    "with h5py.File(path_to_file, 'r')  as df:\n",
    "\n",
    "    cond_0 = df[\"condition_00\"]\n",
    "    cond_0.visititems(see)\n",
    "    # print(cond_0)"
   ]
  },
  {
   "cell_type": "code",
   "execution_count": null,
   "id": "b67f920e",
   "metadata": {},
   "outputs": [],
   "source": []
  }
 ],
 "metadata": {
  "kernelspec": {
   "display_name": "Python 3",
   "language": "python",
   "name": "python3"
  },
  "language_info": {
   "codemirror_mode": {
    "name": "ipython",
    "version": 3
   },
   "file_extension": ".py",
   "mimetype": "text/x-python",
   "name": "python",
   "nbconvert_exporter": "python",
   "pygments_lexer": "ipython3",
   "version": "3.8.12"
  }
 },
 "nbformat": 4,
 "nbformat_minor": 5
}
