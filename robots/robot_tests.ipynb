{
 "cells": [
  {
   "cell_type": "code",
   "execution_count": 1,
   "id": "bbdfe9b5-c03b-4373-b3e6-0e4bd75f07f6",
   "metadata": {},
   "outputs": [],
   "source": [
    "import random"
   ]
  },
  {
   "cell_type": "code",
   "execution_count": 2,
   "id": "30c3d240-acaf-417c-8ee0-6481f0c0c396",
   "metadata": {},
   "outputs": [],
   "source": [
    "action_set = [-10, -5, 0, 5, 10]"
   ]
  },
  {
   "cell_type": "code",
   "execution_count": 5,
   "id": "86ee0177-d554-424f-a272-8c7b50ba0511",
   "metadata": {},
   "outputs": [
    {
     "data": {
      "text/plain": [
       "[-5, 10]"
      ]
     },
     "execution_count": 5,
     "metadata": {},
     "output_type": "execute_result"
    }
   ],
   "source": [
    "random.sample(action_set, 2)"
   ]
  },
  {
   "cell_type": "code",
   "execution_count": null,
   "id": "3b57453a-5cef-4bc7-9aa8-af1ec96e034c",
   "metadata": {},
   "outputs": [],
   "source": [
    "b2.b2Vec2()"
   ]
  }
 ],
 "metadata": {
  "kernelspec": {
   "display_name": "Python 3",
   "language": "python",
   "name": "python3"
  },
  "language_info": {
   "codemirror_mode": {
    "name": "ipython",
    "version": 3
   },
   "file_extension": ".py",
   "mimetype": "text/x-python",
   "name": "python",
   "nbconvert_exporter": "python",
   "pygments_lexer": "ipython3",
   "version": "3.7.10"
  }
 },
 "nbformat": 4,
 "nbformat_minor": 5
}
